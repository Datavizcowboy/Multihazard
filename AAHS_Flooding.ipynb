{
 "cells": [
  {
   "cell_type": "markdown",
   "id": "83bf0dab",
   "metadata": {},
   "source": [
    "# Annual Averaged Hazard Score - Flooding"
   ]
  },
  {
   "cell_type": "raw",
   "id": "2f93d723",
   "metadata": {},
   "source": [
    "In this exercise we perform the calculation of the AAHS for Flooding in the Natanebi river basin. "
   ]
  },
  {
   "cell_type": "markdown",
   "id": "c6e3fa45",
   "metadata": {},
   "source": [
    "We first load useful libraries"
   ]
  },
  {
   "cell_type": "code",
   "execution_count": 1,
   "id": "a771c323",
   "metadata": {},
   "outputs": [
    {
     "name": "stderr",
     "output_type": "stream",
     "text": [
      "/opt/anaconda3/envs/geo_env/lib/python3.10/site-packages/pyproj/__init__.py:89: UserWarning: pyproj unable to set database path.\n",
      "  _pyproj_global_context_initialize()\n"
     ]
    }
   ],
   "source": [
    "import xarray as xr\n",
    "import pandas as pd\n",
    "import numpy as np\n",
    "import matplotlib.pyplot as plt\n",
    "from matplotlib import colors as c\n",
    "import xarray as xr\n",
    "import rasterio\n",
    "from wrf import (getvar, interplevel, to_np, latlon_coords, CoordPair, xy_to_ll, ll_to_xy)\n",
    "from scipy.interpolate import griddata\n",
    "import geopandas as gp\n",
    "import warnings\n",
    "warnings.filterwarnings(\"ignore\")"
   ]
  },
  {
   "cell_type": "markdown",
   "id": "0a29c1ef",
   "metadata": {},
   "source": [
    "Then, we load the wind NetCDF file provided with flood depth at a national level. "
   ]
  },
  {
   "cell_type": "code",
   "execution_count": 4,
   "id": "398d32b0",
   "metadata": {},
   "outputs": [],
   "source": [
    "dat2 = rasterio.open(r\"./DATA/MRe_2y.tif\")\n",
    "dat25 = rasterio.open(r\"./DATA/MRe_25y.tif\")\n",
    "dat50 = rasterio.open(r\"./DATA/MRe_50y.tif\")\n",
    "dat100 = rasterio.open(r\"./DATA/MRe_100y.tif\")\n",
    "dat500 = rasterio.open(r\"./DATA/MRe_500y.tif\")\n",
    "\n",
    "z2 = dat2.read()[0]\n",
    "z25 = dat25.read()[0]\n",
    "z50 = dat50.read()[0]\n",
    "z100 = dat100.read()[0]\n",
    "z500 = dat500.read()[0]"
   ]
  },
  {
   "cell_type": "markdown",
   "id": "defb88dd",
   "metadata": {},
   "source": [
    "In this case intensities are already assigned in the source file,"
   ]
  },
  {
   "cell_type": "code",
   "execution_count": 5,
   "id": "05b33eab",
   "metadata": {},
   "outputs": [],
   "source": [
    "x = [2,25,50,100,500]\n",
    "x = [1/i for i in x]\n",
    "xprima = [1,2,3,4,5]\n",
    "\n",
    "pairy = []"
   ]
  },
  {
   "cell_type": "markdown",
   "id": "59ea9e0e-f39f-4909-946f-fed35ce70539",
   "metadata": {},
   "source": [
    "A new array will contain the resulting exceedance probabilities"
   ]
  },
  {
   "cell_type": "code",
   "execution_count": 6,
   "id": "034d0f08-2f5b-475a-b715-ce7206541c0d",
   "metadata": {},
   "outputs": [],
   "source": [
    "neu = z500"
   ]
  },
  {
   "cell_type": "markdown",
   "id": "bec4456d-fcc6-43d8-a68e-8be249241470",
   "metadata": {},
   "source": [
    "We calculate for each pixel the corresponding exceedance probability at each return period based on the intensity levels. "
   ]
  },
  {
   "cell_type": "code",
   "execution_count": 8,
   "id": "de6d693f-9993-4646-ba28-8094b283fb09",
   "metadata": {},
   "outputs": [],
   "source": [
    "for jj in range(0,len(neu)):\n",
    "    for ii in range(0,len(neu[0])):\n",
    "        val2=z2[jj][ii]\n",
    "        val25=z25[jj][ii]\n",
    "        val50=z50[jj][ii]\n",
    "        val100=z100[jj][ii]\n",
    "        val500=z500[jj][ii]\n",
    "        \n",
    "        pairy = [val2,val25,val50,val100,val500]\n",
    "\n",
    "        pairy = [0 if x<0 else x for x in pairy]\n",
    "        \n",
    "        yprima = [0.5,0.5,0.5,0.5,0.5]\n",
    "        \n",
    "        for kk in range(1,5):\n",
    "            if kk in pairy: \n",
    "                indi = pairy.index(kk)\n",
    "                yprima[kk]=x[indi]\n",
    "            else: \n",
    "                yprima[kk]=0.5\n",
    "           \n",
    "        diff = [x-0.5 for x in yprima]\n",
    "        \n",
    "        store=[]\n",
    "        for cc in range(0,5):\n",
    "            check = diff[cc]<0\n",
    "            if check == True: \n",
    "                store.append(cc)\n",
    "            \n",
    "        if len(store)!=0: \n",
    "            for uu in range(store[-1],len(yprima)-1): \n",
    "                yprima[uu+1]= 0\n",
    "        else: \n",
    "                yprima=[0,0,0,0,0]\n",
    "\n",
    "        neu[jj][ii]=np.sum(yprima)\n",
    "        \n",
    "neu = np.flipud(neu)    "
   ]
  },
  {
   "cell_type": "markdown",
   "id": "1dff6116",
   "metadata": {},
   "source": [
    "We now restrict the extension to the Natanebi river basin boundaries"
   ]
  },
  {
   "cell_type": "code",
   "execution_count": 9,
   "id": "a5356d09",
   "metadata": {},
   "outputs": [],
   "source": [
    "loni = np.linspace(dat2.bounds.left, dat2.bounds.right,len(neu[0]))\n",
    "lati = np.linspace(dat2.bounds.bottom, dat2.bounds.top,len(neu))\n",
    "lons, lats = np.meshgrid(loni,lati)"
   ]
  },
  {
   "cell_type": "markdown",
   "id": "93d5916b",
   "metadata": {},
   "source": [
    "And we plot the AAHS from our calculation method"
   ]
  },
  {
   "cell_type": "code",
   "execution_count": 11,
   "id": "e64f49f5",
   "metadata": {
    "scrolled": true
   },
   "outputs": [
    {
     "data": {
      "image/png": "[encoded data removed]",
      "text/plain": [
       "<Figure size 432x288 with 2 Axes>"
      ]
     },
     "metadata": {
      "needs_background": "light"
     },
     "output_type": "display_data"
    }
   ],
   "source": [
    "fig, ax = plt.subplots(1,1)\n",
    "ax.set_title('Flood AAHS', fontsize=10,linespacing=4.2)\n",
    "ax.set_xlabel('Longitude', fontsize=9,linespacing=4.2)\n",
    "ax.set_ylabel('Latitude', fontsize=9)\n",
    "cmap = plt.get_cmap('gist_heat_r')\n",
    "mesh = ax.pcolormesh(lons,lats,neu,vmin=0, vmax=2,alpha=0.7, cmap=cmap);\n",
    "\n",
    "plt.colorbar(mesh, ax=ax, shrink=1, pad=.02, aspect=10)\n",
    "plt.show()"
   ]
  }
 ],
 "metadata": {
  "kernelspec": {
   "display_name": "Python 3 (ipykernel)",
   "language": "python",
   "name": "python3"
  },
  "language_info": {
   "codemirror_mode": {
    "name": "ipython",
    "version": 3
   },
   "file_extension": ".py",
   "mimetype": "text/x-python",
   "name": "python",
   "nbconvert_exporter": "python",
   "pygments_lexer": "ipython3",
   "version": "3.10.4"
  }
 },
 "nbformat": 4,
 "nbformat_minor": 5
}
