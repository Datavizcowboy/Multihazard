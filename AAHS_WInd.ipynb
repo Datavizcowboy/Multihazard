{
 "cells": [
  {
   "cell_type": "markdown",
   "id": "83bf0dab",
   "metadata": {},
   "source": [
    "# Annual Averaged Hazard Score - Wind"
   ]
  },
  {
   "cell_type": "markdown",
   "id": "f92cdba3",
   "metadata": {},
   "source": [
    "In this exercise we perform the calculation of the AAHS for Wind in the Natanebi river basin. "
   ]
  },
  {
   "cell_type": "markdown",
   "id": "c6e3fa45",
   "metadata": {},
   "source": [
    "We first load useful libraries"
   ]
  },
  {
   "cell_type": "code",
   "execution_count": 57,
   "id": "a771c323",
   "metadata": {},
   "outputs": [],
   "source": [
    "import xarray as xr\n",
    "import pandas as pd\n",
    "import numpy as np\n",
    "import matplotlib.pyplot as plt\n",
    "from matplotlib import colors as c\n",
    "import xarray as xr\n",
    "from wrf import (getvar, interplevel, to_np, latlon_coords, CoordPair, xy_to_ll, ll_to_xy)\n",
    "from scipy.interpolate import griddata\n",
    "import geopandas as gp\n",
    "import warnings\n",
    "warnings.filterwarnings(\"ignore\")"
   ]
  },
  {
   "cell_type": "markdown",
   "id": "0a29c1ef",
   "metadata": {},
   "source": [
    "Then, we load the wind NetCDF file provided with wind speed at a national level. "
   ]
  },
  {
   "cell_type": "code",
   "execution_count": 58,
   "id": "398d32b0",
   "metadata": {},
   "outputs": [],
   "source": [
    "d10_file = './DATA/Wind_2023_exceedance_new_thresholds_and_rp.nc'\n",
    "ds       = xr.open_dataset(d10_file)"
   ]
  },
  {
   "cell_type": "markdown",
   "id": "defb88dd",
   "metadata": {},
   "source": [
    "We assign to each pixel the intensity level associated with each wind speed interval"
   ]
  },
  {
   "cell_type": "code",
   "execution_count": 59,
   "id": "05b33eab",
   "metadata": {},
   "outputs": [],
   "source": [
    "i2 = ds.isel(rp=0).Max_Vel\n",
    "none2 = np.where(i2<14)\n",
    "low2 = np.where((i2>14) & (i2<20))\n",
    "med2 = np.where((i2>20) & (i2<30))\n",
    "high2 = np.where(i2>30)\n",
    "for kk in range(0,len(none2[0])):\n",
    "    pairx=none2[0][kk]\n",
    "    pairy=none2[1][kk]\n",
    "    i2[pairx][pairy]=0\n",
    "for kk in range(0,len(low2[0])):\n",
    "    pairx=low2[0][kk]\n",
    "    pairy=low2[1][kk]\n",
    "    i2[pairx][pairy]=1\n",
    "for kk in range(0,len(med2[0])):\n",
    "    pairx=med2[0][kk]\n",
    "    pairy=med2[1][kk]\n",
    "    i2[pairx][pairy]=2\n",
    "for kk in range(0,len(high2[0])):\n",
    "    pairx=high2[0][kk]\n",
    "    pairy=high2[1][kk]\n",
    "    i2[pairx][pairy]=3 "
   ]
  },
  {
   "cell_type": "markdown",
   "id": "05997695",
   "metadata": {},
   "source": [
    "For the 5 year return period: "
   ]
  },
  {
   "cell_type": "code",
   "execution_count": 60,
   "id": "d672d866",
   "metadata": {},
   "outputs": [],
   "source": [
    "i5 = ds.isel(rp=1).Max_Vel\n",
    "none2 = np.where(i5<14)\n",
    "low2 = np.where((i5>14) & (i5<20))\n",
    "med2 = np.where((i5>20) & (i5<30))\n",
    "high2 = np.where(i5>30)\n",
    "for kk in range(0,len(none2[0])):\n",
    "    pairx=none2[0][kk]\n",
    "    pairy=none2[1][kk]\n",
    "    i5[pairx][pairy]=0\n",
    "for kk in range(0,len(low2[0])):\n",
    "    pairx=low2[0][kk]\n",
    "    pairy=low2[1][kk]\n",
    "    i5[pairx][pairy]=1\n",
    "for kk in range(0,len(med2[0])):\n",
    "    pairx=med2[0][kk]\n",
    "    pairy=med2[1][kk]\n",
    "    i5[pairx][pairy]=2\n",
    "for kk in range(0,len(high2[0])):\n",
    "    pairx=high2[0][kk]\n",
    "    pairy=high2[1][kk]\n",
    "    i5[pairx][pairy]=3"
   ]
  },
  {
   "cell_type": "markdown",
   "id": "20135aeb",
   "metadata": {},
   "source": [
    "For the 10 year return period"
   ]
  },
  {
   "cell_type": "code",
   "execution_count": 61,
   "id": "217d955a",
   "metadata": {},
   "outputs": [],
   "source": [
    "i10 = ds.isel(rp=2).Max_Vel\n",
    "none2 = np.where(i10<14)\n",
    "low2 = np.where((i10>14) & (i10<20))\n",
    "med2 = np.where((i10>20) & (i10<30))\n",
    "high2 = np.where(i10>30)\n",
    "for kk in range(0,len(none2[0])):\n",
    "    pairx=none2[0][kk]\n",
    "    pairy=none2[1][kk]\n",
    "    i10[pairx][pairy]=0\n",
    "for kk in range(0,len(low2[0])):\n",
    "    pairx=low2[0][kk]\n",
    "    pairy=low2[1][kk]\n",
    "    i10[pairx][pairy]=1\n",
    "for kk in range(0,len(med2[0])):\n",
    "    pairx=med2[0][kk]\n",
    "    pairy=med2[1][kk]\n",
    "    i10[pairx][pairy]=2\n",
    "for kk in range(0,len(high2[0])):\n",
    "    pairx=high2[0][kk]\n",
    "    pairy=high2[1][kk]\n",
    "    i10[pairx][pairy]=3 "
   ]
  },
  {
   "cell_type": "markdown",
   "id": "47c5b026",
   "metadata": {},
   "source": [
    "For the 20 year return period"
   ]
  },
  {
   "cell_type": "code",
   "execution_count": 62,
   "id": "4ea9c57e",
   "metadata": {},
   "outputs": [],
   "source": [
    "i20 = ds.isel(rp=3).Max_Vel\n",
    "none2 = np.where(i20<14)\n",
    "low2 = np.where((i20>14) & (i20<20))\n",
    "med2 = np.where((i20>20) & (i20<30))\n",
    "high2 = np.where(i20>30)\n",
    "for kk in range(0,len(none2[0])):\n",
    "    pairx=none2[0][kk]\n",
    "    pairy=none2[1][kk]\n",
    "    i20[pairx][pairy]=0\n",
    "for kk in range(0,len(low2[0])):\n",
    "    pairx=low2[0][kk]\n",
    "    pairy=low2[1][kk]\n",
    "    i20[pairx][pairy]=1\n",
    "for kk in range(0,len(med2[0])):\n",
    "    pairx=med2[0][kk]\n",
    "    pairy=med2[1][kk]\n",
    "    i20[pairx][pairy]=2\n",
    "for kk in range(0,len(high2[0])):\n",
    "    pairx=high2[0][kk]\n",
    "    pairy=high2[1][kk]\n",
    "    i20[pairx][pairy]=3"
   ]
  },
  {
   "cell_type": "markdown",
   "id": "182350d3",
   "metadata": {},
   "source": [
    "For the 50 year return period"
   ]
  },
  {
   "cell_type": "code",
   "execution_count": 63,
   "id": "0dc14a11",
   "metadata": {
    "scrolled": true
   },
   "outputs": [],
   "source": [
    "i50 = ds.isel(rp=4).Max_Vel\n",
    "none2 = np.where(i50<14)\n",
    "low2 = np.where((i50>14) & (i50<20))\n",
    "med2 = np.where((i50>20) & (i50<30))\n",
    "high2 = np.where(i50>30)\n",
    "for kk in range(0,len(none2[0])):\n",
    "    pairx=none2[0][kk]\n",
    "    pairy=none2[1][kk]\n",
    "    i50[pairx][pairy]=0\n",
    "for kk in range(0,len(low2[0])):\n",
    "    pairx=low2[0][kk]\n",
    "    pairy=low2[1][kk]\n",
    "    i50[pairx][pairy]=1\n",
    "for kk in range(0,len(med2[0])):\n",
    "    pairx=med2[0][kk]\n",
    "    pairy=med2[1][kk]\n",
    "    i50[pairx][pairy]=2\n",
    "for kk in range(0,len(high2[0])):\n",
    "    pairx=high2[0][kk]\n",
    "    pairy=high2[1][kk]\n",
    "    i50[pairx][pairy]=3"
   ]
  },
  {
   "cell_type": "markdown",
   "id": "63ce9865-2bc1-4527-acf3-d369e4c21f65",
   "metadata": {},
   "source": [
    "For the 100 year return period"
   ]
  },
  {
   "cell_type": "code",
   "execution_count": 64,
   "id": "509761d9-f0ac-42b4-b769-5fac38df1ddd",
   "metadata": {},
   "outputs": [],
   "source": [
    "i100 = ds.isel(rp=5).Max_Vel\n",
    "none2 = np.where(i100<14)\n",
    "low2 = np.where((i100>14) & (i100<20))\n",
    "med2 = np.where((i100>20) & (i100<30))\n",
    "high2 = np.where(i100>30)\n",
    "for kk in range(0,len(none2[0])):\n",
    "    pairx=none2[0][kk]\n",
    "    pairy=none2[1][kk]\n",
    "    i100[pairx][pairy]=0\n",
    "for kk in range(0,len(low2[0])):\n",
    "    pairx=low2[0][kk]\n",
    "    pairy=low2[1][kk]\n",
    "    i100[pairx][pairy]=1\n",
    "for kk in range(0,len(med2[0])):\n",
    "    pairx=med2[0][kk]\n",
    "    pairy=med2[1][kk]\n",
    "    i100[pairx][pairy]=2\n",
    "for kk in range(0,len(high2[0])):\n",
    "    pairx=high2[0][kk]\n",
    "    pairy=high2[1][kk]\n",
    "    i100[pairx][pairy]=3"
   ]
  },
  {
   "cell_type": "markdown",
   "id": "e7feaf86-f8ea-462a-8291-666b9e12f27b",
   "metadata": {},
   "source": [
    "For the 200 year return period"
   ]
  },
  {
   "cell_type": "code",
   "execution_count": 65,
   "id": "bfadf254-812d-4917-9790-1064781b260e",
   "metadata": {},
   "outputs": [],
   "source": [
    "i200 = ds.isel(rp=6).Max_Vel\n",
    "none2 = np.where(i200<14)\n",
    "low2 = np.where((i200>14) & (i200<20))\n",
    "med2 = np.where((i200>20) & (i200<30))\n",
    "high2 = np.where(i200>30)\n",
    "for kk in range(0,len(none2[0])):\n",
    "    pairx=none2[0][kk]\n",
    "    pairy=none2[1][kk]\n",
    "    i200[pairx][pairy]=0\n",
    "for kk in range(0,len(low2[0])):\n",
    "    pairx=low2[0][kk]\n",
    "    pairy=low2[1][kk]\n",
    "    i200[pairx][pairy]=1\n",
    "for kk in range(0,len(med2[0])):\n",
    "    pairx=med2[0][kk]\n",
    "    pairy=med2[1][kk]\n",
    "    i200[pairx][pairy]=2\n",
    "for kk in range(0,len(high2[0])):\n",
    "    pairx=high2[0][kk]\n",
    "    pairy=high2[1][kk]\n",
    "    i200[pairx][pairy]=3"
   ]
  },
  {
   "cell_type": "markdown",
   "id": "34d0b970",
   "metadata": {},
   "source": [
    "For the 500 year return period"
   ]
  },
  {
   "cell_type": "code",
   "execution_count": 66,
   "id": "62d180f3-cb03-48f0-84dc-f3976c0b12df",
   "metadata": {},
   "outputs": [],
   "source": [
    "i500 = ds.isel(rp=7).Max_Vel\n",
    "none2 = np.where(i500<14)\n",
    "low2 = np.where((i500>14) & (i500<20))\n",
    "med2 = np.where((i500>20) & (i500<30))\n",
    "high2 = np.where(i500>30)\n",
    "for kk in range(0,len(none2[0])):\n",
    "    pairx=none2[0][kk]\n",
    "    pairy=none2[1][kk]\n",
    "    i500[pairx][pairy]=0\n",
    "for kk in range(0,len(low2[0])):\n",
    "    pairx=low2[0][kk]\n",
    "    pairy=low2[1][kk]\n",
    "    i500[pairx][pairy]=1\n",
    "for kk in range(0,len(med2[0])):\n",
    "    pairx=med2[0][kk]\n",
    "    pairy=med2[1][kk]\n",
    "    i500[pairx][pairy]=2\n",
    "for kk in range(0,len(high2[0])):\n",
    "    pairx=high2[0][kk]\n",
    "    pairy=high2[1][kk]\n",
    "    i500[pairx][pairy]=3"
   ]
  },
  {
   "cell_type": "markdown",
   "id": "ac335d7b",
   "metadata": {},
   "source": [
    "For the 1000 year return period"
   ]
  },
  {
   "cell_type": "code",
   "execution_count": 67,
   "id": "4254e491-5b77-4f9d-b9d6-2c9ca448705b",
   "metadata": {},
   "outputs": [],
   "source": [
    "i1000 = ds.isel(rp=8).Max_Vel\n",
    "none2 = np.where(i1000<14)\n",
    "low2 = np.where((i1000>14) & (i1000<20))\n",
    "med2 = np.where((i1000>20) & (i1000<30))\n",
    "high2 = np.where(i1000>30)\n",
    "for kk in range(0,len(none2[0])):\n",
    "    pairx=none2[0][kk]\n",
    "    pairy=none2[1][kk]\n",
    "    i1000[pairx][pairy]=0\n",
    "for kk in range(0,len(low2[0])):\n",
    "    pairx=low2[0][kk]\n",
    "    pairy=low2[1][kk]\n",
    "    i1000[pairx][pairy]=1\n",
    "for kk in range(0,len(med2[0])):\n",
    "    pairx=med2[0][kk]\n",
    "    pairy=med2[1][kk]\n",
    "    i1000[pairx][pairy]=2\n",
    "for kk in range(0,len(high2[0])):\n",
    "    pairx=high2[0][kk]\n",
    "    pairy=high2[1][kk]\n",
    "    i1000[pairx][pairy]=3"
   ]
  },
  {
   "cell_type": "markdown",
   "id": "bf816f3a-fa3c-402f-870f-27f4995a10f0",
   "metadata": {},
   "source": [
    "We now define the axis with the return periods that will turn into exceedance probabilities"
   ]
  },
  {
   "cell_type": "code",
   "execution_count": 68,
   "id": "9c3e1307-4192-4165-b3b1-c6e683677db0",
   "metadata": {},
   "outputs": [],
   "source": [
    "x = [2,5,10,20,50,100,200,500,1000]\n",
    "x = [1/i for i in x]"
   ]
  },
  {
   "cell_type": "markdown",
   "id": "59ea9e0e-f39f-4909-946f-fed35ce70539",
   "metadata": {},
   "source": [
    "A new array will contain the resulting exceedance probabilities"
   ]
  },
  {
   "cell_type": "code",
   "execution_count": 69,
   "id": "034d0f08-2f5b-475a-b715-ce7206541c0d",
   "metadata": {},
   "outputs": [],
   "source": [
    "neu = i2"
   ]
  },
  {
   "cell_type": "markdown",
   "id": "bec4456d-fcc6-43d8-a68e-8be249241470",
   "metadata": {},
   "source": [
    "We calculate for each pixel the corresponding exceedance probability at each return period based on the intensity levels. "
   ]
  },
  {
   "cell_type": "code",
   "execution_count": 70,
   "id": "de6d693f-9993-4646-ba28-8094b283fb09",
   "metadata": {},
   "outputs": [],
   "source": [
    "for jj in range(0,len(i2)):\n",
    "    for ii in range(0,len(i2[0])):\n",
    "        pairy = [i2[jj][ii],i5[jj][ii],i10[jj][ii],i20[jj][ii],i50[jj][ii],i100[jj][ii],i200[jj][ii],i500[jj][ii],i1000[jj][ii]]\n",
    "        yprima = [0.5,0.5,0.5,0.5,0.5,0.5,0.5,0.5,0.5]\n",
    "        for kk in range(0,5):\n",
    "            if kk in pairy: \n",
    "                indi = pairy.index(kk)\n",
    "                yprima[kk]=x[indi]\n",
    "            else: \n",
    "                yprima[kk]=0.5\n",
    "           \n",
    "        diff = [x-0.5 for x in yprima]\n",
    "        \n",
    "        store=[]\n",
    "        for cc in range(0,9):\n",
    "            check = diff[cc]<0\n",
    "            if check == True: \n",
    "                store.append(cc)\n",
    "            \n",
    "        if len(store)!=0: \n",
    "            for uu in range(store[-1],len(yprima)-1): \n",
    "                yprima[uu+1]= 0\n",
    "        else: \n",
    "                yprima=[0,0,0,0,0]\n",
    "\n",
    "        neu[jj][ii]=np.sum(yprima)"
   ]
  },
  {
   "cell_type": "markdown",
   "id": "285f1ac3-cb65-44dc-a0cc-afbbaccd812d",
   "metadata": {},
   "source": [
    "We now turn the Lambert Conical projection into regular lat/lon, having in mind that we have to later put all the hazards under the same grid coordinates."
   ]
  },
  {
   "cell_type": "code",
   "execution_count": 71,
   "id": "31d92c94-03c6-425c-a810-efe8a40c08c8",
   "metadata": {},
   "outputs": [],
   "source": [
    "lats, lons = latlon_coords(neu)"
   ]
  },
  {
   "cell_type": "markdown",
   "id": "8018f132-0151-48a1-9df6-5ffbc5497715",
   "metadata": {},
   "source": [
    "We define the new set of coordinates"
   ]
  },
  {
   "cell_type": "code",
   "execution_count": 72,
   "id": "1963ab09-1403-4eb8-9c25-e4b802c5363c",
   "metadata": {},
   "outputs": [],
   "source": [
    "Yi = np.linspace(np.min(lats.data),float(np.max(lats.data)),len(lats))\n",
    "Xi = np.linspace(np.min(lons.data),float(np.max(lons.data)),len(lons[0]))\n",
    "X, Y = np.meshgrid(Xi,Yi)"
   ]
  },
  {
   "cell_type": "markdown",
   "id": "b5f7c97e-3451-46eb-b527-e04f9d7cda52",
   "metadata": {},
   "source": [
    "We project onto the new coordinates"
   ]
  },
  {
   "cell_type": "code",
   "execution_count": 73,
   "id": "bc9a8abb-7f5f-479e-90ff-65a61f1a1cb6",
   "metadata": {},
   "outputs": [],
   "source": [
    "nvals = griddata((lons.values.ravel(),\n",
    "                                    lats.values.ravel()),\n",
    "                                    neu.values.ravel(),\n",
    "                                    (X,Y),\n",
    "                                    method='linear')"
   ]
  },
  {
   "cell_type": "markdown",
   "id": "1dff6116",
   "metadata": {},
   "source": [
    "We now restrict the extension to the Natanebi river basin boundaries"
   ]
  },
  {
   "cell_type": "code",
   "execution_count": 80,
   "id": "a5356d09",
   "metadata": {},
   "outputs": [
    {
     "ename": "CRSError",
     "evalue": "Invalid projection: epsg:4326: (Internal Proj Error: proj_create: no database context specified)",
     "output_type": "error",
     "traceback": [
      "\u001b[0;31m---------------------------------------------------------------------------\u001b[0m",
      "\u001b[0;31mCRSError\u001b[0m                                  Traceback (most recent call last)",
      "\u001b[0;32m/var/folders/5k/mjzbrl8j1773drpygwd3n0mm0000gn/T/ipykernel_1666/1194037762.py\u001b[0m in \u001b[0;36m<cell line: 2>\u001b[0;34m()\u001b[0m\n\u001b[1;32m      1\u001b[0m \u001b[0mdf\u001b[0m \u001b[0;34m=\u001b[0m \u001b[0mgp\u001b[0m\u001b[0;34m.\u001b[0m\u001b[0mread_file\u001b[0m\u001b[0;34m(\u001b[0m\u001b[0;34m'./DATA/Final Flood Extent 5y.shp'\u001b[0m\u001b[0;34m)\u001b[0m\u001b[0;34m\u001b[0m\u001b[0;34m\u001b[0m\u001b[0m\n\u001b[0;32m----> 2\u001b[0;31m \u001b[0mdf\u001b[0m \u001b[0;34m=\u001b[0m \u001b[0mdf\u001b[0m\u001b[0;34m.\u001b[0m\u001b[0mto_crs\u001b[0m\u001b[0;34m(\u001b[0m\u001b[0mepsg\u001b[0m\u001b[0;34m=\u001b[0m\u001b[0;36m4326\u001b[0m\u001b[0;34m)\u001b[0m\u001b[0;34m\u001b[0m\u001b[0;34m\u001b[0m\u001b[0m\n\u001b[0m\u001b[1;32m      3\u001b[0m \u001b[0mx_min\u001b[0m\u001b[0;34m,\u001b[0m \u001b[0my_min\u001b[0m\u001b[0;34m,\u001b[0m \u001b[0mx_max\u001b[0m\u001b[0;34m,\u001b[0m \u001b[0my_max\u001b[0m \u001b[0;34m=\u001b[0m \u001b[0mdf\u001b[0m\u001b[0;34m.\u001b[0m\u001b[0mtotal_bounds\u001b[0m\u001b[0;34m\u001b[0m\u001b[0;34m\u001b[0m\u001b[0m\n",
      "\u001b[0;32m/opt/anaconda3/envs/geo_env/lib/python3.10/site-packages/geopandas/geodataframe.py\u001b[0m in \u001b[0;36mto_crs\u001b[0;34m(self, crs, epsg, inplace)\u001b[0m\n\u001b[1;32m   1362\u001b[0m         \u001b[0;32melse\u001b[0m\u001b[0;34m:\u001b[0m\u001b[0;34m\u001b[0m\u001b[0;34m\u001b[0m\u001b[0m\n\u001b[1;32m   1363\u001b[0m             \u001b[0mdf\u001b[0m \u001b[0;34m=\u001b[0m \u001b[0mself\u001b[0m\u001b[0;34m.\u001b[0m\u001b[0mcopy\u001b[0m\u001b[0;34m(\u001b[0m\u001b[0;34m)\u001b[0m\u001b[0;34m\u001b[0m\u001b[0;34m\u001b[0m\u001b[0m\n\u001b[0;32m-> 1364\u001b[0;31m         \u001b[0mgeom\u001b[0m \u001b[0;34m=\u001b[0m \u001b[0mdf\u001b[0m\u001b[0;34m.\u001b[0m\u001b[0mgeometry\u001b[0m\u001b[0;34m.\u001b[0m\u001b[0mto_crs\u001b[0m\u001b[0;34m(\u001b[0m\u001b[0mcrs\u001b[0m\u001b[0;34m=\u001b[0m\u001b[0mcrs\u001b[0m\u001b[0;34m,\u001b[0m \u001b[0mepsg\u001b[0m\u001b[0;34m=\u001b[0m\u001b[0mepsg\u001b[0m\u001b[0;34m)\u001b[0m\u001b[0;34m\u001b[0m\u001b[0;34m\u001b[0m\u001b[0m\n\u001b[0m\u001b[1;32m   1365\u001b[0m         \u001b[0mdf\u001b[0m\u001b[0;34m.\u001b[0m\u001b[0mgeometry\u001b[0m \u001b[0;34m=\u001b[0m \u001b[0mgeom\u001b[0m\u001b[0;34m\u001b[0m\u001b[0;34m\u001b[0m\u001b[0m\n\u001b[1;32m   1366\u001b[0m         \u001b[0;32mif\u001b[0m \u001b[0;32mnot\u001b[0m \u001b[0minplace\u001b[0m\u001b[0;34m:\u001b[0m\u001b[0;34m\u001b[0m\u001b[0;34m\u001b[0m\u001b[0m\n",
      "\u001b[0;32m/opt/anaconda3/envs/geo_env/lib/python3.10/site-packages/geopandas/geoseries.py\u001b[0m in \u001b[0;36mto_crs\u001b[0;34m(self, crs, epsg)\u001b[0m\n\u001b[1;32m   1122\u001b[0m         \"\"\"\n\u001b[1;32m   1123\u001b[0m         return GeoSeries(\n\u001b[0;32m-> 1124\u001b[0;31m             \u001b[0mself\u001b[0m\u001b[0;34m.\u001b[0m\u001b[0mvalues\u001b[0m\u001b[0;34m.\u001b[0m\u001b[0mto_crs\u001b[0m\u001b[0;34m(\u001b[0m\u001b[0mcrs\u001b[0m\u001b[0;34m=\u001b[0m\u001b[0mcrs\u001b[0m\u001b[0;34m,\u001b[0m \u001b[0mepsg\u001b[0m\u001b[0;34m=\u001b[0m\u001b[0mepsg\u001b[0m\u001b[0;34m)\u001b[0m\u001b[0;34m,\u001b[0m \u001b[0mindex\u001b[0m\u001b[0;34m=\u001b[0m\u001b[0mself\u001b[0m\u001b[0;34m.\u001b[0m\u001b[0mindex\u001b[0m\u001b[0;34m,\u001b[0m \u001b[0mname\u001b[0m\u001b[0;34m=\u001b[0m\u001b[0mself\u001b[0m\u001b[0;34m.\u001b[0m\u001b[0mname\u001b[0m\u001b[0;34m\u001b[0m\u001b[0;34m\u001b[0m\u001b[0m\n\u001b[0m\u001b[1;32m   1125\u001b[0m         )\n\u001b[1;32m   1126\u001b[0m \u001b[0;34m\u001b[0m\u001b[0m\n",
      "\u001b[0;32m/opt/anaconda3/envs/geo_env/lib/python3.10/site-packages/geopandas/array.py\u001b[0m in \u001b[0;36mto_crs\u001b[0;34m(self, crs, epsg)\u001b[0m\n\u001b[1;32m    767\u001b[0m             \u001b[0mcrs\u001b[0m \u001b[0;34m=\u001b[0m \u001b[0mCRS\u001b[0m\u001b[0;34m.\u001b[0m\u001b[0mfrom_user_input\u001b[0m\u001b[0;34m(\u001b[0m\u001b[0mcrs\u001b[0m\u001b[0;34m)\u001b[0m\u001b[0;34m\u001b[0m\u001b[0;34m\u001b[0m\u001b[0m\n\u001b[1;32m    768\u001b[0m         \u001b[0;32melif\u001b[0m \u001b[0mepsg\u001b[0m \u001b[0;32mis\u001b[0m \u001b[0;32mnot\u001b[0m \u001b[0;32mNone\u001b[0m\u001b[0;34m:\u001b[0m\u001b[0;34m\u001b[0m\u001b[0;34m\u001b[0m\u001b[0m\n\u001b[0;32m--> 769\u001b[0;31m             \u001b[0mcrs\u001b[0m \u001b[0;34m=\u001b[0m \u001b[0mCRS\u001b[0m\u001b[0;34m.\u001b[0m\u001b[0mfrom_epsg\u001b[0m\u001b[0;34m(\u001b[0m\u001b[0mepsg\u001b[0m\u001b[0;34m)\u001b[0m\u001b[0;34m\u001b[0m\u001b[0;34m\u001b[0m\u001b[0m\n\u001b[0m\u001b[1;32m    770\u001b[0m         \u001b[0;32melse\u001b[0m\u001b[0;34m:\u001b[0m\u001b[0;34m\u001b[0m\u001b[0;34m\u001b[0m\u001b[0m\n\u001b[1;32m    771\u001b[0m             \u001b[0;32mraise\u001b[0m \u001b[0mValueError\u001b[0m\u001b[0;34m(\u001b[0m\u001b[0;34m\"Must pass either crs or epsg.\"\u001b[0m\u001b[0;34m)\u001b[0m\u001b[0;34m\u001b[0m\u001b[0;34m\u001b[0m\u001b[0m\n",
      "\u001b[0;32m/opt/anaconda3/envs/geo_env/lib/python3.10/site-packages/pyproj/crs/crs.py\u001b[0m in \u001b[0;36mfrom_epsg\u001b[0;34m(cls, code)\u001b[0m\n\u001b[1;32m    377\u001b[0m         \u001b[0mCRS\u001b[0m\u001b[0;34m\u001b[0m\u001b[0;34m\u001b[0m\u001b[0m\n\u001b[1;32m    378\u001b[0m         \"\"\"\n\u001b[0;32m--> 379\u001b[0;31m         \u001b[0;32mreturn\u001b[0m \u001b[0mcls\u001b[0m\u001b[0;34m.\u001b[0m\u001b[0mfrom_user_input\u001b[0m\u001b[0;34m(\u001b[0m\u001b[0m_prepare_from_epsg\u001b[0m\u001b[0;34m(\u001b[0m\u001b[0mcode\u001b[0m\u001b[0;34m)\u001b[0m\u001b[0;34m)\u001b[0m\u001b[0;34m\u001b[0m\u001b[0;34m\u001b[0m\u001b[0m\n\u001b[0m\u001b[1;32m    380\u001b[0m \u001b[0;34m\u001b[0m\u001b[0m\n\u001b[1;32m    381\u001b[0m     \u001b[0;34m@\u001b[0m\u001b[0mclassmethod\u001b[0m\u001b[0;34m\u001b[0m\u001b[0;34m\u001b[0m\u001b[0m\n",
      "\u001b[0;32m/opt/anaconda3/envs/geo_env/lib/python3.10/site-packages/pyproj/crs/crs.py\u001b[0m in \u001b[0;36mfrom_user_input\u001b[0;34m(cls, value, **kwargs)\u001b[0m\n\u001b[1;32m    486\u001b[0m         \u001b[0;32mif\u001b[0m \u001b[0misinstance\u001b[0m\u001b[0;34m(\u001b[0m\u001b[0mvalue\u001b[0m\u001b[0;34m,\u001b[0m \u001b[0mcls\u001b[0m\u001b[0;34m)\u001b[0m\u001b[0;34m:\u001b[0m\u001b[0;34m\u001b[0m\u001b[0;34m\u001b[0m\u001b[0m\n\u001b[1;32m    487\u001b[0m             \u001b[0;32mreturn\u001b[0m \u001b[0mvalue\u001b[0m\u001b[0;34m\u001b[0m\u001b[0;34m\u001b[0m\u001b[0m\n\u001b[0;32m--> 488\u001b[0;31m         \u001b[0;32mreturn\u001b[0m \u001b[0mcls\u001b[0m\u001b[0;34m(\u001b[0m\u001b[0mvalue\u001b[0m\u001b[0;34m,\u001b[0m \u001b[0;34m**\u001b[0m\u001b[0mkwargs\u001b[0m\u001b[0;34m)\u001b[0m\u001b[0;34m\u001b[0m\u001b[0;34m\u001b[0m\u001b[0m\n\u001b[0m\u001b[1;32m    489\u001b[0m \u001b[0;34m\u001b[0m\u001b[0m\n\u001b[1;32m    490\u001b[0m     \u001b[0;32mdef\u001b[0m \u001b[0mget_geod\u001b[0m\u001b[0;34m(\u001b[0m\u001b[0mself\u001b[0m\u001b[0;34m)\u001b[0m \u001b[0;34m->\u001b[0m \u001b[0mOptional\u001b[0m\u001b[0;34m[\u001b[0m\u001b[0mGeod\u001b[0m\u001b[0;34m]\u001b[0m\u001b[0;34m:\u001b[0m\u001b[0;34m\u001b[0m\u001b[0;34m\u001b[0m\u001b[0m\n",
      "\u001b[0;32m/opt/anaconda3/envs/geo_env/lib/python3.10/site-packages/pyproj/crs/crs.py\u001b[0m in \u001b[0;36m__init__\u001b[0;34m(self, projparams, **kwargs)\u001b[0m\n\u001b[1;32m    333\u001b[0m             \u001b[0mself\u001b[0m\u001b[0;34m.\u001b[0m\u001b[0m_local\u001b[0m\u001b[0;34m.\u001b[0m\u001b[0mcrs\u001b[0m \u001b[0;34m=\u001b[0m \u001b[0mprojparams\u001b[0m\u001b[0;34m\u001b[0m\u001b[0;34m\u001b[0m\u001b[0m\n\u001b[1;32m    334\u001b[0m         \u001b[0;32melse\u001b[0m\u001b[0;34m:\u001b[0m\u001b[0;34m\u001b[0m\u001b[0;34m\u001b[0m\u001b[0m\n\u001b[0;32m--> 335\u001b[0;31m             \u001b[0mself\u001b[0m\u001b[0;34m.\u001b[0m\u001b[0m_local\u001b[0m\u001b[0;34m.\u001b[0m\u001b[0mcrs\u001b[0m \u001b[0;34m=\u001b[0m \u001b[0m_CRS\u001b[0m\u001b[0;34m(\u001b[0m\u001b[0mself\u001b[0m\u001b[0;34m.\u001b[0m\u001b[0msrs\u001b[0m\u001b[0;34m)\u001b[0m\u001b[0;34m\u001b[0m\u001b[0;34m\u001b[0m\u001b[0m\n\u001b[0m\u001b[1;32m    336\u001b[0m \u001b[0;34m\u001b[0m\u001b[0m\n\u001b[1;32m    337\u001b[0m     \u001b[0;34m@\u001b[0m\u001b[0mproperty\u001b[0m\u001b[0;34m\u001b[0m\u001b[0;34m\u001b[0m\u001b[0m\n",
      "\u001b[0;32mpyproj/_crs.pyx\u001b[0m in \u001b[0;36mpyproj._crs._CRS.__init__\u001b[0;34m()\u001b[0m\n",
      "\u001b[0;31mCRSError\u001b[0m: Invalid projection: epsg:4326: (Internal Proj Error: proj_create: no database context specified)"
     ]
    }
   ],
   "source": [
    "df = gp.read_file('./DATA/Final Flood Extent 5y.shp')\n",
    "df = df.to_crs(epsg=4326)\n",
    "x_min, y_min, x_max, y_max = df.total_bounds"
   ]
  },
  {
   "cell_type": "markdown",
   "id": "93d5916b",
   "metadata": {},
   "source": [
    "And we plot the AAHS from our calculation method"
   ]
  },
  {
   "cell_type": "code",
   "execution_count": 76,
   "id": "e64f49f5",
   "metadata": {},
   "outputs": [
    {
     "data": {
      "image/png": "[encoded data removed]",
      "text/plain": [
       "<Figure size 216x144 with 2 Axes>"
      ]
     },
     "metadata": {
      "needs_background": "light"
     },
     "output_type": "display_data"
    }
   ],
   "source": [
    "fig,ax = plt.subplots(dpi=36)\n",
    "ax.set_ylim(y_min,y_max)\n",
    "ax.set_xlim(x_min,x_max)\n",
    "ax.set_title('Wind AAHS', fontsize=10,linespacing=4.2)\n",
    "ax.set_xlabel('Longitude', fontsize=9,linespacing=4.2)\n",
    "ax.set_ylabel('Latitude', fontsize=9)\n",
    "# df.plot(ax=ax, color='blue', edgecolor='none',linewidth=.2,aspect=1)\n",
    "# df.plot(ax=ax, color='white', edgecolor='black',linewidth=.2,aspect=1)\n",
    "cmap = plt.get_cmap('gist_heat_r')\n",
    "mesh = ax.pcolormesh(Xi,Yi,nvals,vmin=0, vmax=2,alpha=0.7, cmap=cmap);\n",
    "plt.colorbar(mesh, ax=ax, shrink=1, pad=.02, aspect=5)\n",
    "plt.show()"
   ]
  },
  {
   "cell_type": "code",
   "execution_count": null,
   "id": "1a819b6a",
   "metadata": {},
   "outputs": [],
   "source": []
  }
 ],
 "metadata": {
  "kernelspec": {
   "display_name": "Python 3 (ipykernel)",
   "language": "python",
   "name": "python3"
  },
  "language_info": {
   "codemirror_mode": {
    "name": "ipython",
    "version": 3
   },
   "file_extension": ".py",
   "mimetype": "text/x-python",
   "name": "python",
   "nbconvert_exporter": "python",
   "pygments_lexer": "ipython3",
   "version": "3.10.4"
  }
 },
 "nbformat": 4,
 "nbformat_minor": 5
}
