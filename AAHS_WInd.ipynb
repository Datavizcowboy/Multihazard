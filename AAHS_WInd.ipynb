{
 "cells": [
  {
   "cell_type": "markdown",
   "id": "83bf0dab",
   "metadata": {},
   "source": [
    "# Annual Averaged Hazard Score - Wind"
   ]
  },
  {
   "cell_type": "markdown",
   "id": "f92cdba3",
   "metadata": {},
   "source": [
    "In this exercise we perform the calculation of the AAHS for Wind in the Natanebi river basin. "
   ]
  },
  {
   "cell_type": "markdown",
   "id": "c6e3fa45",
   "metadata": {},
   "source": [
    "We first load useful libraries"
   ]
  },
  {
   "cell_type": "code",
   "execution_count": 24,
   "id": "a771c323",
   "metadata": {},
   "outputs": [
    {
     "ename": "ModuleNotFoundError",
     "evalue": "No module named 'wrf'",
     "output_type": "error",
     "traceback": [
      "\u001b[0;31m---------------------------------------------------------------------------\u001b[0m",
      "\u001b[0;31mModuleNotFoundError\u001b[0m                       Traceback (most recent call last)",
      "Cell \u001b[0;32mIn[24], line 7\u001b[0m\n\u001b[1;32m      5\u001b[0m \u001b[38;5;28;01mfrom\u001b[39;00m \u001b[38;5;21;01mmatplotlib\u001b[39;00m \u001b[38;5;28;01mimport\u001b[39;00m colors \u001b[38;5;28;01mas\u001b[39;00m c\n\u001b[1;32m      6\u001b[0m \u001b[38;5;28;01mimport\u001b[39;00m \u001b[38;5;21;01mxarray\u001b[39;00m \u001b[38;5;28;01mas\u001b[39;00m \u001b[38;5;21;01mxr\u001b[39;00m\n\u001b[0;32m----> 7\u001b[0m \u001b[38;5;28;01mfrom\u001b[39;00m \u001b[38;5;21;01mwrf\u001b[39;00m \u001b[38;5;28;01mimport\u001b[39;00m (getvar, interplevel, to_np, latlon_coords, CoordPair, xy_to_ll, ll_to_xy)\n\u001b[1;32m      8\u001b[0m \u001b[38;5;28;01mfrom\u001b[39;00m \u001b[38;5;21;01mscipy\u001b[39;00m\u001b[38;5;21;01m.\u001b[39;00m\u001b[38;5;21;01minterpolate\u001b[39;00m \u001b[38;5;28;01mimport\u001b[39;00m griddata\n\u001b[1;32m      9\u001b[0m \u001b[38;5;28;01mimport\u001b[39;00m \u001b[38;5;21;01mwarnings\u001b[39;00m\n",
      "\u001b[0;31mModuleNotFoundError\u001b[0m: No module named 'wrf'"
     ]
    }
   ],
   "source": [
    "import xarray as xr\n",
    "import pandas as pd\n",
    "import numpy as np\n",
    "import matplotlib.pyplot as plt\n",
    "from matplotlib import colors as c\n",
    "import xarray as xr\n",
    "from wrf import (getvar, interplevel, to_np, latlon_coords, CoordPair, xy_to_ll, ll_to_xy)\n",
    "from scipy.interpolate import griddata\n",
    "import warnings\n",
    "warnings.filterwarnings(\"ignore\")"
   ]
  },
  {
   "cell_type": "markdown",
   "id": "0a29c1ef",
   "metadata": {},
   "source": [
    "Then, we load the wind NetCDF file provided with wind speed at a national level. "
   ]
  },
  {
   "cell_type": "code",
   "execution_count": 25,
   "id": "398d32b0",
   "metadata": {},
   "outputs": [],
   "source": [
    "d10_file = './DATA/Wind/Wind_2023_exceedance_new_thresholds_and_rp.nc'\n",
    "ds       = xr.open_dataset(d10_file)"
   ]
  },
  {
   "cell_type": "markdown",
   "id": "defb88dd",
   "metadata": {},
   "source": [
    "We assign to each pixel the intensity level associated with each wind speed interval"
   ]
  },
  {
   "cell_type": "code",
   "execution_count": 26,
   "id": "05b33eab",
   "metadata": {},
   "outputs": [],
   "source": [
    "i2 = ds.isel(rp=0).Max_Vel\n",
    "none2 = np.where(i2<14)\n",
    "low2 = np.where((i2>14) & (i2<20))\n",
    "med2 = np.where((i2>20) & (i2<30))\n",
    "high2 = np.where(i2>30)\n",
    "for kk in range(0,len(none2[0])):\n",
    "    pairx=none2[0][kk]\n",
    "    pairy=none2[1][kk]\n",
    "    i2[pairx][pairy]=0\n",
    "for kk in range(0,len(low2[0])):\n",
    "    pairx=low2[0][kk]\n",
    "    pairy=low2[1][kk]\n",
    "    i2[pairx][pairy]=1\n",
    "for kk in range(0,len(med2[0])):\n",
    "    pairx=med2[0][kk]\n",
    "    pairy=med2[1][kk]\n",
    "    i2[pairx][pairy]=2\n",
    "for kk in range(0,len(high2[0])):\n",
    "    pairx=high2[0][kk]\n",
    "    pairy=high2[1][kk]\n",
    "    i2[pairx][pairy]=3 "
   ]
  },
  {
   "cell_type": "markdown",
   "id": "05997695",
   "metadata": {},
   "source": [
    "For the 5 year return period: "
   ]
  },
  {
   "cell_type": "code",
   "execution_count": 27,
   "id": "d672d866",
   "metadata": {},
   "outputs": [],
   "source": [
    "i5 = ds.isel(rp=1).Max_Vel\n",
    "none2 = np.where(i5<14)\n",
    "low2 = np.where((i5>14) & (i5<20))\n",
    "med2 = np.where((i5>20) & (i5<30))\n",
    "high2 = np.where(i5>30)\n",
    "for kk in range(0,len(none2[0])):\n",
    "    pairx=none2[0][kk]\n",
    "    pairy=none2[1][kk]\n",
    "    i5[pairx][pairy]=0\n",
    "for kk in range(0,len(low2[0])):\n",
    "    pairx=low2[0][kk]\n",
    "    pairy=low2[1][kk]\n",
    "    i5[pairx][pairy]=1\n",
    "for kk in range(0,len(med2[0])):\n",
    "    pairx=med2[0][kk]\n",
    "    pairy=med2[1][kk]\n",
    "    i5[pairx][pairy]=2\n",
    "for kk in range(0,len(high2[0])):\n",
    "    pairx=high2[0][kk]\n",
    "    pairy=high2[1][kk]\n",
    "    i5[pairx][pairy]=3"
   ]
  },
  {
   "cell_type": "markdown",
   "id": "20135aeb",
   "metadata": {},
   "source": [
    "For the 10 year return period"
   ]
  },
  {
   "cell_type": "code",
   "execution_count": 28,
   "id": "217d955a",
   "metadata": {},
   "outputs": [],
   "source": [
    "i10 = ds.isel(rp=2).Max_Vel\n",
    "none2 = np.where(i10<14)\n",
    "low2 = np.where((i10>14) & (i10<20))\n",
    "med2 = np.where((i10>20) & (i10<30))\n",
    "high2 = np.where(i10>30)\n",
    "for kk in range(0,len(none2[0])):\n",
    "    pairx=none2[0][kk]\n",
    "    pairy=none2[1][kk]\n",
    "    i10[pairx][pairy]=0\n",
    "for kk in range(0,len(low2[0])):\n",
    "    pairx=low2[0][kk]\n",
    "    pairy=low2[1][kk]\n",
    "    i10[pairx][pairy]=1\n",
    "for kk in range(0,len(med2[0])):\n",
    "    pairx=med2[0][kk]\n",
    "    pairy=med2[1][kk]\n",
    "    i10[pairx][pairy]=2\n",
    "for kk in range(0,len(high2[0])):\n",
    "    pairx=high2[0][kk]\n",
    "    pairy=high2[1][kk]\n",
    "    i10[pairx][pairy]=3 "
   ]
  },
  {
   "cell_type": "markdown",
   "id": "47c5b026",
   "metadata": {},
   "source": [
    "For the 20 year return period"
   ]
  },
  {
   "cell_type": "code",
   "execution_count": 29,
   "id": "4ea9c57e",
   "metadata": {},
   "outputs": [],
   "source": [
    "i20 = ds.isel(rp=3).Max_Vel\n",
    "none2 = np.where(i20<14)\n",
    "low2 = np.where((i20>14) & (i20<20))\n",
    "med2 = np.where((i20>20) & (i20<30))\n",
    "high2 = np.where(i20>30)\n",
    "for kk in range(0,len(none2[0])):\n",
    "    pairx=none2[0][kk]\n",
    "    pairy=none2[1][kk]\n",
    "    i20[pairx][pairy]=0\n",
    "for kk in range(0,len(low2[0])):\n",
    "    pairx=low2[0][kk]\n",
    "    pairy=low2[1][kk]\n",
    "    i20[pairx][pairy]=1\n",
    "for kk in range(0,len(med2[0])):\n",
    "    pairx=med2[0][kk]\n",
    "    pairy=med2[1][kk]\n",
    "    i20[pairx][pairy]=2\n",
    "for kk in range(0,len(high2[0])):\n",
    "    pairx=high2[0][kk]\n",
    "    pairy=high2[1][kk]\n",
    "    i20[pairx][pairy]=3"
   ]
  },
  {
   "cell_type": "markdown",
   "id": "182350d3",
   "metadata": {},
   "source": [
    "For the 50 year return period"
   ]
  },
  {
   "cell_type": "code",
   "execution_count": 30,
   "id": "0dc14a11",
   "metadata": {
    "scrolled": true
   },
   "outputs": [],
   "source": [
    "i50 = ds.isel(rp=4).Max_Vel\n",
    "none2 = np.where(i50<14)\n",
    "low2 = np.where((i50>14) & (i50<20))\n",
    "med2 = np.where((i50>20) & (i50<30))\n",
    "high2 = np.where(i50>30)\n",
    "for kk in range(0,len(none2[0])):\n",
    "    pairx=none2[0][kk]\n",
    "    pairy=none2[1][kk]\n",
    "    i50[pairx][pairy]=0\n",
    "for kk in range(0,len(low2[0])):\n",
    "    pairx=low2[0][kk]\n",
    "    pairy=low2[1][kk]\n",
    "    i50[pairx][pairy]=1\n",
    "for kk in range(0,len(med2[0])):\n",
    "    pairx=med2[0][kk]\n",
    "    pairy=med2[1][kk]\n",
    "    i50[pairx][pairy]=2\n",
    "for kk in range(0,len(high2[0])):\n",
    "    pairx=high2[0][kk]\n",
    "    pairy=high2[1][kk]\n",
    "    i50[pairx][pairy]=3"
   ]
  },
  {
   "cell_type": "markdown",
   "id": "63ce9865-2bc1-4527-acf3-d369e4c21f65",
   "metadata": {},
   "source": [
    "For the 100 year return period"
   ]
  },
  {
   "cell_type": "code",
   "execution_count": 31,
   "id": "509761d9-f0ac-42b4-b769-5fac38df1ddd",
   "metadata": {},
   "outputs": [],
   "source": [
    "i100 = ds.isel(rp=5).Max_Vel\n",
    "none2 = np.where(i100<14)\n",
    "low2 = np.where((i100>14) & (i100<20))\n",
    "med2 = np.where((i100>20) & (i100<30))\n",
    "high2 = np.where(i100>30)\n",
    "for kk in range(0,len(none2[0])):\n",
    "    pairx=none2[0][kk]\n",
    "    pairy=none2[1][kk]\n",
    "    i100[pairx][pairy]=0\n",
    "for kk in range(0,len(low2[0])):\n",
    "    pairx=low2[0][kk]\n",
    "    pairy=low2[1][kk]\n",
    "    i100[pairx][pairy]=1\n",
    "for kk in range(0,len(med2[0])):\n",
    "    pairx=med2[0][kk]\n",
    "    pairy=med2[1][kk]\n",
    "    i100[pairx][pairy]=2\n",
    "for kk in range(0,len(high2[0])):\n",
    "    pairx=high2[0][kk]\n",
    "    pairy=high2[1][kk]\n",
    "    i100[pairx][pairy]=3"
   ]
  },
  {
   "cell_type": "markdown",
   "id": "e7feaf86-f8ea-462a-8291-666b9e12f27b",
   "metadata": {},
   "source": [
    "For the 200 year return period"
   ]
  },
  {
   "cell_type": "code",
   "execution_count": 32,
   "id": "bfadf254-812d-4917-9790-1064781b260e",
   "metadata": {},
   "outputs": [],
   "source": [
    "i200 = ds.isel(rp=6).Max_Vel\n",
    "none2 = np.where(i200<14)\n",
    "low2 = np.where((i200>14) & (i200<20))\n",
    "med2 = np.where((i200>20) & (i200<30))\n",
    "high2 = np.where(i200>30)\n",
    "for kk in range(0,len(none2[0])):\n",
    "    pairx=none2[0][kk]\n",
    "    pairy=none2[1][kk]\n",
    "    i200[pairx][pairy]=0\n",
    "for kk in range(0,len(low2[0])):\n",
    "    pairx=low2[0][kk]\n",
    "    pairy=low2[1][kk]\n",
    "    i200[pairx][pairy]=1\n",
    "for kk in range(0,len(med2[0])):\n",
    "    pairx=med2[0][kk]\n",
    "    pairy=med2[1][kk]\n",
    "    i200[pairx][pairy]=2\n",
    "for kk in range(0,len(high2[0])):\n",
    "    pairx=high2[0][kk]\n",
    "    pairy=high2[1][kk]\n",
    "    i200[pairx][pairy]=3"
   ]
  },
  {
   "cell_type": "raw",
   "id": "56cb764b-f5af-4495-b8db-7d7bf4485ce4",
   "metadata": {},
   "source": [
    "For the 500 year return period"
   ]
  },
  {
   "cell_type": "code",
   "execution_count": 33,
   "id": "62d180f3-cb03-48f0-84dc-f3976c0b12df",
   "metadata": {},
   "outputs": [],
   "source": [
    "i500 = ds.isel(rp=7).Max_Vel\n",
    "none2 = np.where(i500<14)\n",
    "low2 = np.where((i500>14) & (i500<20))\n",
    "med2 = np.where((i500>20) & (i500<30))\n",
    "high2 = np.where(i500>30)\n",
    "for kk in range(0,len(none2[0])):\n",
    "    pairx=none2[0][kk]\n",
    "    pairy=none2[1][kk]\n",
    "    i500[pairx][pairy]=0\n",
    "for kk in range(0,len(low2[0])):\n",
    "    pairx=low2[0][kk]\n",
    "    pairy=low2[1][kk]\n",
    "    i500[pairx][pairy]=1\n",
    "for kk in range(0,len(med2[0])):\n",
    "    pairx=med2[0][kk]\n",
    "    pairy=med2[1][kk]\n",
    "    i500[pairx][pairy]=2\n",
    "for kk in range(0,len(high2[0])):\n",
    "    pairx=high2[0][kk]\n",
    "    pairy=high2[1][kk]\n",
    "    i500[pairx][pairy]=3"
   ]
  },
  {
   "cell_type": "raw",
   "id": "60f63501-6f20-4ed1-9e5c-130af8cb424e",
   "metadata": {},
   "source": [
    "For the 1000 year return period"
   ]
  },
  {
   "cell_type": "code",
   "execution_count": 34,
   "id": "4254e491-5b77-4f9d-b9d6-2c9ca448705b",
   "metadata": {},
   "outputs": [],
   "source": [
    "i1000 = ds.isel(rp=8).Max_Vel\n",
    "none2 = np.where(i1000<14)\n",
    "low2 = np.where((i1000>14) & (i1000<20))\n",
    "med2 = np.where((i1000>20) & (i1000<30))\n",
    "high2 = np.where(i1000>30)\n",
    "for kk in range(0,len(none2[0])):\n",
    "    pairx=none2[0][kk]\n",
    "    pairy=none2[1][kk]\n",
    "    i1000[pairx][pairy]=0\n",
    "for kk in range(0,len(low2[0])):\n",
    "    pairx=low2[0][kk]\n",
    "    pairy=low2[1][kk]\n",
    "    i1000[pairx][pairy]=1\n",
    "for kk in range(0,len(med2[0])):\n",
    "    pairx=med2[0][kk]\n",
    "    pairy=med2[1][kk]\n",
    "    i1000[pairx][pairy]=2\n",
    "for kk in range(0,len(high2[0])):\n",
    "    pairx=high2[0][kk]\n",
    "    pairy=high2[1][kk]\n",
    "    i1000[pairx][pairy]=3"
   ]
  },
  {
   "cell_type": "markdown",
   "id": "bf816f3a-fa3c-402f-870f-27f4995a10f0",
   "metadata": {},
   "source": [
    "We now define the axis with the return periods that will turn into exceedance probabilities"
   ]
  },
  {
   "cell_type": "code",
   "execution_count": 35,
   "id": "9c3e1307-4192-4165-b3b1-c6e683677db0",
   "metadata": {},
   "outputs": [],
   "source": [
    "x = [2,5,10,20,50,100,200,500,1000]\n",
    "x = [1/i for i in x]"
   ]
  },
  {
   "cell_type": "markdown",
   "id": "59ea9e0e-f39f-4909-946f-fed35ce70539",
   "metadata": {},
   "source": [
    "A new array will contain the resulting exceedance probabilities"
   ]
  },
  {
   "cell_type": "code",
   "execution_count": 36,
   "id": "034d0f08-2f5b-475a-b715-ce7206541c0d",
   "metadata": {},
   "outputs": [],
   "source": [
    "neu = i2"
   ]
  },
  {
   "cell_type": "markdown",
   "id": "bec4456d-fcc6-43d8-a68e-8be249241470",
   "metadata": {},
   "source": [
    "We calculate for each pixel the corresponding exceedance probability at each return period based on the intensity levels. "
   ]
  },
  {
   "cell_type": "code",
   "execution_count": 37,
   "id": "de6d693f-9993-4646-ba28-8094b283fb09",
   "metadata": {},
   "outputs": [],
   "source": [
    "for jj in range(0,len(i2)):\n",
    "    for ii in range(0,len(i2[0])):\n",
    "        pairy = [i2[jj][ii],i5[jj][ii],i10[jj][ii],i20[jj][ii],i50[jj][ii],i100[jj][ii],i200[jj][ii],i500[jj][ii],i1000[jj][ii]]\n",
    "        yprima = [0.5,0.5,0.5,0.5,0.5,0.5,0.5,0.5,0.5]\n",
    "        for kk in range(0,5):\n",
    "            if kk in pairy: \n",
    "                indi = pairy.index(kk)\n",
    "                yprima[kk]=x[indi]\n",
    "            else: \n",
    "                yprima[kk]=0.5\n",
    "           \n",
    "        diff = [x-0.5 for x in yprima]\n",
    "        \n",
    "        store=[]\n",
    "        for cc in range(0,9):\n",
    "            check = diff[cc]<0\n",
    "            if check == True: \n",
    "                store.append(cc)\n",
    "            \n",
    "        if len(store)!=0: \n",
    "            for uu in range(store[-1],len(yprima)-1): \n",
    "                yprima[uu+1]= 0\n",
    "        else: \n",
    "                yprima=[0,0,0,0,0]\n",
    "\n",
    "        neu[jj][ii]=np.sum(yprima)"
   ]
  },
  {
   "cell_type": "markdown",
   "id": "285f1ac3-cb65-44dc-a0cc-afbbaccd812d",
   "metadata": {},
   "source": [
    "We now turn the Lambert Conical projection into regular lat/lon, having in mind that we have to later put all the hazards under the same grid coordinates."
   ]
  },
  {
   "cell_type": "code",
   "execution_count": 38,
   "id": "31d92c94-03c6-425c-a810-efe8a40c08c8",
   "metadata": {},
   "outputs": [
    {
     "ename": "NameError",
     "evalue": "name 'latlon_coords' is not defined",
     "output_type": "error",
     "traceback": [
      "\u001b[0;31m---------------------------------------------------------------------------\u001b[0m",
      "\u001b[0;31mNameError\u001b[0m                                 Traceback (most recent call last)",
      "Cell \u001b[0;32mIn[38], line 1\u001b[0m\n\u001b[0;32m----> 1\u001b[0m lats, lons \u001b[38;5;241m=\u001b[39m latlon_coords(neu)\n",
      "\u001b[0;31mNameError\u001b[0m: name 'latlon_coords' is not defined"
     ]
    }
   ],
   "source": [
    "lats, lons = latlon_coords(neu)"
   ]
  },
  {
   "cell_type": "markdown",
   "id": "8018f132-0151-48a1-9df6-5ffbc5497715",
   "metadata": {},
   "source": [
    "We define the new set of coordinates"
   ]
  },
  {
   "cell_type": "code",
   "execution_count": null,
   "id": "1963ab09-1403-4eb8-9c25-e4b802c5363c",
   "metadata": {},
   "outputs": [],
   "source": [
    "Yi = np.linspace(np.min(lats.data),float(np.max(lats.data)),len(lats))\n",
    "Xi = np.linspace(np.min(lons.data),float(np.max(lons.data)),len(lons[0]))\n",
    "X, Y = np.meshgrid(Xi,Yi)"
   ]
  },
  {
   "cell_type": "markdown",
   "id": "b5f7c97e-3451-46eb-b527-e04f9d7cda52",
   "metadata": {},
   "source": [
    "We project onto the new coordinates"
   ]
  },
  {
   "cell_type": "code",
   "execution_count": 22,
   "id": "bc9a8abb-7f5f-479e-90ff-65a61f1a1cb6",
   "metadata": {},
   "outputs": [
    {
     "ename": "NameError",
     "evalue": "name 'griddata' is not defined",
     "output_type": "error",
     "traceback": [
      "\u001b[0;31m---------------------------------------------------------------------------\u001b[0m",
      "\u001b[0;31mNameError\u001b[0m                                 Traceback (most recent call last)",
      "Cell \u001b[0;32mIn[22], line 1\u001b[0m\n\u001b[0;32m----> 1\u001b[0m nvals \u001b[38;5;241m=\u001b[39m griddata((lons\u001b[38;5;241m.\u001b[39mvalues\u001b[38;5;241m.\u001b[39mravel(),\n\u001b[1;32m      2\u001b[0m                                     lats\u001b[38;5;241m.\u001b[39mvalues\u001b[38;5;241m.\u001b[39mravel()),\n\u001b[1;32m      3\u001b[0m                                     neu\u001b[38;5;241m.\u001b[39mvalues\u001b[38;5;241m.\u001b[39mravel(),\n\u001b[1;32m      4\u001b[0m                                     (X,Y),\n\u001b[1;32m      5\u001b[0m                                     method\u001b[38;5;241m=\u001b[39m\u001b[38;5;124m'\u001b[39m\u001b[38;5;124mlinear\u001b[39m\u001b[38;5;124m'\u001b[39m)\n",
      "\u001b[0;31mNameError\u001b[0m: name 'griddata' is not defined"
     ]
    }
   ],
   "source": [
    "nvals = griddata((lons.values.ravel(),\n",
    "                                    lats.values.ravel()),\n",
    "                                    neu.values.ravel(),\n",
    "                                    (X,Y),\n",
    "                                    method='linear')"
   ]
  },
  {
   "cell_type": "code",
   "execution_count": null,
   "id": "63bd56f1-139d-4f2b-aa5b-4edb8de55a25",
   "metadata": {},
   "outputs": [],
   "source": []
  }
 ],
 "metadata": {
  "kernelspec": {
   "display_name": "Python 3 (ipykernel)",
   "language": "python",
   "name": "python3"
  },
  "language_info": {
   "codemirror_mode": {
    "name": "ipython",
    "version": 3
   },
   "file_extension": ".py",
   "mimetype": "text/x-python",
   "name": "python",
   "nbconvert_exporter": "python",
   "pygments_lexer": "ipython3",
   "version": "3.12.4"
  }
 },
 "nbformat": 4,
 "nbformat_minor": 5
}
